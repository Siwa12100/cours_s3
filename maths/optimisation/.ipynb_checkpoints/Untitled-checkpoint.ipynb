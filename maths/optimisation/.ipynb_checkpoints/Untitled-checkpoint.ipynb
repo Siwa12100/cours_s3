{
 "cells": [
  {
   "cell_type": "code",
   "execution_count": 7,
   "id": "2835e51e",
   "metadata": {},
   "outputs": [],
   "source": [
    "#G=graphs.PetersenGraph()\n",
    "#print(G.neighbors(v))\n",
    "#G.plot(vertex_colors={'red':S})"
   ]
  },
  {
   "cell_type": "code",
   "execution_count": 11,
   "id": "83648433",
   "metadata": {},
   "outputs": [],
   "source": [
    "# ============\n",
    "# Exercice 1 :\n",
    "# ============\n",
    "\n",
    "\n",
    "from random import randrange\n",
    "\n",
    "def randomDico(G):\n",
    "    return {v: randrange(1, 100) for v in G}\n",
    "\n",
    "\n",
    "\n",
    "def CS_PLNE(G,c) :\n",
    "    \n",
    "    p = MixedIntegerLinearProgram(maximization=False, integer=True)\n",
    "    \n",
    "    p.set_objective(p.sum(c[v] * x[v] for v in G))\n",
    "    \n",
    "    for edge in G.edges():\n",
    "        u, v = edge\n",
    "        p.add_constraint(x[u] + x[v] >= 1)\n",
    "\n",
    "    for v in G:\n",
    "        p.add_constraint(x[v] <= 1)\n",
    "        \n",
    "    solution = p.solve()\n",
    "    \n",
    "    solution = [v for v in G if solution[x[v]] == 1]\n",
    "    \n",
    "    return solution\n",
    "        \n",
    "    \n",
    "    \n",
    "    "
   ]
  },
  {
   "cell_type": "code",
   "execution_count": 12,
   "id": "2351a1f1",
   "metadata": {},
   "outputs": [
    {
     "name": "stdout",
     "output_type": "stream",
     "text": [
      "Dictionnaire de coûts aléatoires: {0: 78, 1: 34, 2: 70, 3: 99, 4: 76, 5: 36, 6: 45, 7: 91, 8: 16, 9: 79}\n"
     ]
    }
   ],
   "source": [
    "#G = graphs.PetersenGraph()\n",
    "G = Graph(10)\n",
    "#G.add_edge()\n",
    "c = randomDico(G)\n",
    "print(\"Dictionnaire :\", c)"
   ]
  },
  {
   "cell_type": "code",
   "execution_count": 17,
   "id": "16366ed5",
   "metadata": {},
   "outputs": [
    {
     "name": "stdout",
     "output_type": "stream",
     "text": [
      "Dictionnaire : {0: 6, 1: 90, 2: 56, 3: 53, 4: 73, 5: 26, 6: 52, 7: 25, 8: 57, 9: 82}\n"
     ]
    },
    {
     "ename": "TypeError",
     "evalue": "'float' object is not subscriptable",
     "output_type": "error",
     "traceback": [
      "\u001b[0;31m---------------------------------------------------------------------------\u001b[0m",
      "\u001b[0;31mTypeError\u001b[0m                                 Traceback (most recent call last)",
      "Input \u001b[0;32mIn [17]\u001b[0m, in \u001b[0;36m<cell line: 26>\u001b[0;34m()\u001b[0m\n\u001b[1;32m     22\u001b[0m c \u001b[38;5;241m=\u001b[39m randomDico(G)\n\u001b[1;32m     24\u001b[0m \u001b[38;5;28mprint\u001b[39m(\u001b[38;5;124m\"\u001b[39m\u001b[38;5;124mDictionnaire :\u001b[39m\u001b[38;5;124m\"\u001b[39m, c)\n\u001b[0;32m---> 26\u001b[0m \u001b[43mCS_PLNE_2\u001b[49m\u001b[43m(\u001b[49m\u001b[43mG\u001b[49m\u001b[43m,\u001b[49m\u001b[43mc\u001b[49m\u001b[43m)\u001b[49m\n",
      "Input \u001b[0;32mIn [17]\u001b[0m, in \u001b[0;36mCS_PLNE_2\u001b[0;34m(G, c)\u001b[0m\n\u001b[1;32m     13\u001b[0m     p\u001b[38;5;241m.\u001b[39madd_constraint(\u001b[38;5;28mvars\u001b[39m[v] \u001b[38;5;241m<\u001b[39m\u001b[38;5;241m=\u001b[39m Integer(\u001b[38;5;241m1\u001b[39m))\n\u001b[1;32m     15\u001b[0m solution \u001b[38;5;241m=\u001b[39m p\u001b[38;5;241m.\u001b[39msolve()\n\u001b[0;32m---> 17\u001b[0m solution \u001b[38;5;241m=\u001b[39m [v \u001b[38;5;28;01mfor\u001b[39;00m v \u001b[38;5;129;01min\u001b[39;00m G \u001b[38;5;28;01mif\u001b[39;00m solution[\u001b[38;5;28mvars\u001b[39m[v]] \u001b[38;5;241m==\u001b[39m Integer(\u001b[38;5;241m1\u001b[39m)]\n\u001b[1;32m     19\u001b[0m \u001b[38;5;28;01mreturn\u001b[39;00m solution\n",
      "Input \u001b[0;32mIn [17]\u001b[0m, in \u001b[0;36m<listcomp>\u001b[0;34m(.0)\u001b[0m\n\u001b[1;32m     13\u001b[0m     p\u001b[38;5;241m.\u001b[39madd_constraint(\u001b[38;5;28mvars\u001b[39m[v] \u001b[38;5;241m<\u001b[39m\u001b[38;5;241m=\u001b[39m Integer(\u001b[38;5;241m1\u001b[39m))\n\u001b[1;32m     15\u001b[0m solution \u001b[38;5;241m=\u001b[39m p\u001b[38;5;241m.\u001b[39msolve()\n\u001b[0;32m---> 17\u001b[0m solution \u001b[38;5;241m=\u001b[39m [v \u001b[38;5;28;01mfor\u001b[39;00m v \u001b[38;5;129;01min\u001b[39;00m G \u001b[38;5;28;01mif\u001b[39;00m \u001b[43msolution\u001b[49m\u001b[43m[\u001b[49m\u001b[38;5;28;43mvars\u001b[39;49m\u001b[43m[\u001b[49m\u001b[43mv\u001b[49m\u001b[43m]\u001b[49m\u001b[43m]\u001b[49m \u001b[38;5;241m==\u001b[39m Integer(\u001b[38;5;241m1\u001b[39m)]\n\u001b[1;32m     19\u001b[0m \u001b[38;5;28;01mreturn\u001b[39;00m solution\n",
      "\u001b[0;31mTypeError\u001b[0m: 'float' object is not subscriptable"
     ]
    }
   ],
   "source": [
    "def CS_PLNE_2(G,c):\n",
    "    \n",
    "    p = MixedIntegerLinearProgram(maximization=False)\n",
    "    vars = p.new_variable(integer=True, nonnegative=True)\n",
    "    \n",
    "    p.set_objective(p.sum(c[v] * vars[v] for v in G))\n",
    "    \n",
    "    for edge in G.edges():\n",
    "        u, v = edge\n",
    "        p.add_constraint(vars[u] + vars[v] >= 1)\n",
    "\n",
    "    for v in G:\n",
    "        p.add_constraint(vars[v] <= 1)\n",
    "        \n",
    "    solution = p.solve()\n",
    "    \n",
    "    solution = [v for v in G if solution[vars[v]] == 1]\n",
    "    \n",
    "    return solution\n",
    "\n",
    "G = Graph(10)\n",
    "c = randomDico(G)\n",
    "\n",
    "print(\"Dictionnaire :\", c)\n",
    "\n",
    "CS_PLNE_2(G,c)"
   ]
  },
  {
   "cell_type": "code",
   "execution_count": null,
   "id": "fee896b2",
   "metadata": {},
   "outputs": [],
   "source": []
  },
  {
   "cell_type": "code",
   "execution_count": null,
   "id": "b3f97ff8",
   "metadata": {},
   "outputs": [],
   "source": []
  },
  {
   "cell_type": "code",
   "execution_count": null,
   "id": "7abfb8d0",
   "metadata": {},
   "outputs": [],
   "source": []
  }
 ],
 "metadata": {
  "kernelspec": {
   "display_name": "SageMath 9.2",
   "language": "sage",
   "name": "sagemath"
  },
  "language_info": {
   "codemirror_mode": {
    "name": "ipython",
    "version": 3
   },
   "file_extension": ".py",
   "mimetype": "text/x-python",
   "name": "python",
   "nbconvert_exporter": "python",
   "pygments_lexer": "ipython3",
   "version": "3.9.2"
  }
 },
 "nbformat": 4,
 "nbformat_minor": 5
}
